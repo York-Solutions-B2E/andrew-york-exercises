{
 "cells": [
  {
   "cell_type": "markdown",
   "metadata": {},
   "source": [
    "# First Notebook\n",
    "\n",
    "This cell will render as _rich-formatted text_ when it is evaluated. To evaluate, click the checkmark on the top right of the cell or shift+enter\n",
    "\n",
    "## Subheading\n",
    "\n",
    "* Bulleted lists\n",
    "* **Bolded text**\n",
    "* [Links to web pages](http://en.wikipedia.org)\n",
    "* Blank line for new line\n",
    "\n",
    "Google markdown syntax\n",
    "\n",
    "### Think of notebooks as establishing a linear narrative. Order cells accordingly\n",
    "\n",
    "**When you close and reopen a JN, the kernel is also restarted and none of the code is evaluated,** though it looks like it has. This gives you greater control over the order in which your code is run.\n",
    "\n",
    "**A good rule of thumb is to run all the code when you reopen the file (\"Run All\" at the top)** unless you are doing something specific.\n",
    "\n",
    "### The last expression of a cell is printed by default"
   ]
  },
  {
   "cell_type": "markdown",
   "metadata": {},
   "source": [
    "## Keyboard Shortcuts to Know\n",
    "\n",
    "Ctrl + Enter - Evaluate cell & keep focus\n",
    "\n",
    "Shift + Enter - Evaluate cell and move focus to next cell\n",
    "\n",
    "Up, Down (outside of editing) - Move focus between cells"
   ]
  },
  {
   "cell_type": "code",
   "execution_count": 1,
   "metadata": {},
   "outputs": [
    {
     "name": "stdout",
     "output_type": "stream",
     "text": [
      "hello\n"
     ]
    }
   ],
   "source": [
    "print(\"hello\")"
   ]
  },
  {
   "cell_type": "code",
   "execution_count": 2,
   "metadata": {},
   "outputs": [
    {
     "name": "stdout",
     "output_type": "stream",
     "text": [
      "[1 2 3 4 5]\n",
      "<class 'numpy.ndarray'>\n",
      "<class 'str'>\n"
     ]
    }
   ],
   "source": [
    "import numpy as np\n",
    "arr = np.array([1, 2, 3, 4, 5])\n",
    "print(arr)\n",
    "print(type(arr))\n",
    "\n",
    "blerg = \"qlghpej\"\n",
    "print(type(blerg))"
   ]
  },
  {
   "cell_type": "code",
   "execution_count": 3,
   "metadata": {},
   "outputs": [
    {
     "name": "stdout",
     "output_type": "stream",
     "text": [
      "<class 'float'>\n"
     ]
    }
   ],
   "source": [
    "print(type(7.0))"
   ]
  }
 ],
 "metadata": {
  "kernelspec": {
   "display_name": "Python 3",
   "language": "python",
   "name": "python3"
  },
  "language_info": {
   "codemirror_mode": {
    "name": "ipython",
    "version": 3
   },
   "file_extension": ".py",
   "mimetype": "text/x-python",
   "name": "python",
   "nbconvert_exporter": "python",
   "pygments_lexer": "ipython3",
   "version": "3.12.0"
  }
 },
 "nbformat": 4,
 "nbformat_minor": 2
}
