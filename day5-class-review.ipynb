{
 "cells": [
  {
   "cell_type": "code",
   "execution_count": 3,
   "metadata": {},
   "outputs": [
    {
     "name": "stdout",
     "output_type": "stream",
     "text": [
      "Hello, my name is Kane\n",
      "Hello, my name is Don\n"
     ]
    }
   ],
   "source": [
    "class User:\n",
    "    def __init__(self, name):\n",
    "        self.name = name\n",
    "        pass\n",
    "    def introduce(self):\n",
    "        print(\"Hello, my name is\", str(self.name))\n",
    "    def change_name(self, newName):\n",
    "        self.name = newName\n",
    "\n",
    "myUser = User(\"Kane\")\n",
    "myUser.name = \"Kane\"\n",
    "myUser.introduce()\n",
    "# myUser.name = \"Don\"\n",
    "myUser.change_name(\"Don\") # Do this, not the above\n",
    "myUser.introduce()"
   ]
  },
  {
   "cell_type": "code",
   "execution_count": 4,
   "metadata": {},
   "outputs": [],
   "source": [
    "# Max's class vector\n",
    "\n",
    "class Vector:\n",
    "    def __init__(self, values):\n",
    "        self.values = values\n",
    "        self.length = len(values)\n",
    "    def display(self):\n",
    "        print(str(self.values) + \" : \" + str(self.length))\n",
    "    def __add__(self, other):\n",
    "        if(self.length == other.length):\n",
    "            newList = []\n",
    "            for i in range(0, self.length, 1):\n",
    "                newList.append(self.values[i] + other.values[i])\n",
    "            return Vector(newList)\n",
    "        else:\n",
    "            print(\"Error: Vector dimension mismatch\")"
   ]
  }
 ],
 "metadata": {
  "kernelspec": {
   "display_name": "Python 3",
   "language": "python",
   "name": "python3"
  },
  "language_info": {
   "codemirror_mode": {
    "name": "ipython",
    "version": 3
   },
   "file_extension": ".py",
   "mimetype": "text/x-python",
   "name": "python",
   "nbconvert_exporter": "python",
   "pygments_lexer": "ipython3",
   "version": "3.11.6"
  }
 },
 "nbformat": 4,
 "nbformat_minor": 2
}
