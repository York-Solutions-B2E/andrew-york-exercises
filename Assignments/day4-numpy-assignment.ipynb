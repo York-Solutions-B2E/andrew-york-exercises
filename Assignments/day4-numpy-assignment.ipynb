{
 "cells": [
  {
   "cell_type": "code",
   "execution_count": 19,
   "metadata": {},
   "outputs": [],
   "source": [
    "import numpy as np\n",
    "import math"
   ]
  },
  {
   "cell_type": "markdown",
   "metadata": {},
   "source": [
    "# 1. 1D Array"
   ]
  },
  {
   "cell_type": "code",
   "execution_count": 20,
   "metadata": {},
   "outputs": [
    {
     "data": {
      "text/plain": [
       "array([ 1,  2,  3,  4,  5,  6,  7,  8,  9, 10])"
      ]
     },
     "execution_count": 20,
     "metadata": {},
     "output_type": "execute_result"
    }
   ],
   "source": [
    "# Create a 1-dimensional NumPy array with elements [1, 2, 3, 4, 5, 6, 7, 8, 9, 10].\n",
    "\n",
    "arr1 = np.array([1,2,3,4,5,6,7,8,9,10])\n",
    "arr1"
   ]
  },
  {
   "cell_type": "code",
   "execution_count": 21,
   "metadata": {},
   "outputs": [
    {
     "name": "stdout",
     "output_type": "stream",
     "text": [
      "55\n",
      "5.5\n"
     ]
    }
   ],
   "source": [
    "# Calculate the sum and average of the array elements.\n",
    "\n",
    "print(np.sum(arr1))\n",
    "print(np.mean(arr1))"
   ]
  },
  {
   "cell_type": "code",
   "execution_count": 22,
   "metadata": {},
   "outputs": [
    {
     "name": "stdout",
     "output_type": "stream",
     "text": [
      "[ 3  6  9 12 15 18 21 24 27 30]\n"
     ]
    }
   ],
   "source": [
    "# Multiply the array by a scalar value of 3.\n",
    "\n",
    "print(arr1 * 3)"
   ]
  },
  {
   "cell_type": "code",
   "execution_count": 23,
   "metadata": {},
   "outputs": [
    {
     "data": {
      "text/plain": [
       "array([3, 4, 5, 6, 7])"
      ]
     },
     "execution_count": 23,
     "metadata": {},
     "output_type": "execute_result"
    }
   ],
   "source": [
    "# Slice the array to select elements from the 3rd to the 7th position.\n",
    "arr1slice = arr1[2:7]\n",
    "arr1slice"
   ]
  },
  {
   "cell_type": "code",
   "execution_count": 24,
   "metadata": {},
   "outputs": [
    {
     "name": "stdout",
     "output_type": "stream",
     "text": [
      "25\n",
      "5.0\n"
     ]
    }
   ],
   "source": [
    "# Compute the sum and average of the sliced array\n",
    "\n",
    "print(np.sum(arr1slice))\n",
    "print(np.mean(arr1slice))"
   ]
  },
  {
   "cell_type": "markdown",
   "metadata": {},
   "source": [
    "# 2. Multi-dimensional Array"
   ]
  },
  {
   "cell_type": "code",
   "execution_count": 25,
   "metadata": {},
   "outputs": [
    {
     "data": {
      "text/plain": [
       "array([[3, 4, 5],\n",
       "       [6, 7, 8],\n",
       "       [9, 1, 2]])"
      ]
     },
     "execution_count": 25,
     "metadata": {},
     "output_type": "execute_result"
    }
   ],
   "source": [
    "# Create a 3x3 matrix with the following rows in order: {3,4,5} {6,7,8} {9,1,2}\n",
    "\n",
    "m1 = np.array([[3,4,5],[6,7,8],[9,1,2]])\n",
    "m1\n"
   ]
  },
  {
   "cell_type": "code",
   "execution_count": 26,
   "metadata": {},
   "outputs": [
    {
     "name": "stdout",
     "output_type": "stream",
     "text": [
      "8\n"
     ]
    }
   ],
   "source": [
    "# Print the element in the second row, third column.\n",
    "\n",
    "print(m1[1,2])"
   ]
  },
  {
   "cell_type": "code",
   "execution_count": 27,
   "metadata": {},
   "outputs": [
    {
     "name": "stdout",
     "output_type": "stream",
     "text": [
      "[6 7 8]\n"
     ]
    }
   ],
   "source": [
    "# Print the second row\n",
    "\n",
    "print(m1[1,:])"
   ]
  },
  {
   "cell_type": "code",
   "execution_count": 28,
   "metadata": {},
   "outputs": [
    {
     "name": "stdout",
     "output_type": "stream",
     "text": [
      "[4 7 1]\n"
     ]
    }
   ],
   "source": [
    "# Print the second column\n",
    "\n",
    "print(m1[:,1])"
   ]
  },
  {
   "cell_type": "code",
   "execution_count": 29,
   "metadata": {},
   "outputs": [
    {
     "name": "stdout",
     "output_type": "stream",
     "text": [
      "[[3 6 9]\n",
      " [4 7 1]\n",
      " [5 8 2]]\n"
     ]
    }
   ],
   "source": [
    "# Compute the transpose of the matrix\n",
    "m1t = np.transpose(m1)\n",
    "print(m1t)"
   ]
  },
  {
   "cell_type": "markdown",
   "metadata": {},
   "source": [
    "# 3. Concatenation"
   ]
  },
  {
   "cell_type": "code",
   "execution_count": 30,
   "metadata": {},
   "outputs": [],
   "source": [
    "# Create two 1-d arrays: [5,1,4,2] and [6,10,11,7]\n",
    "\n",
    "a1 = np.array([5,1,4,2])\n",
    "a2 = np.array([6,10,11,7])"
   ]
  },
  {
   "cell_type": "code",
   "execution_count": 31,
   "metadata": {},
   "outputs": [
    {
     "data": {
      "text/plain": [
       "array([ 5,  1,  4,  2,  6, 10, 11,  7])"
      ]
     },
     "execution_count": 31,
     "metadata": {},
     "output_type": "execute_result"
    }
   ],
   "source": [
    "# Concatenate the two arrays\n",
    "a3 = np.concatenate((a1, a2))\n",
    "a3"
   ]
  },
  {
   "cell_type": "code",
   "execution_count": 32,
   "metadata": {},
   "outputs": [
    {
     "data": {
      "text/plain": [
       "array([ 1,  2,  4,  5,  6,  7, 10, 11])"
      ]
     },
     "execution_count": 32,
     "metadata": {},
     "output_type": "execute_result"
    }
   ],
   "source": [
    "# Sort the new array from lowest to highest\n",
    "a4 = np.sort(a3)\n",
    "a4"
   ]
  },
  {
   "cell_type": "code",
   "execution_count": 33,
   "metadata": {},
   "outputs": [
    {
     "data": {
      "text/plain": [
       "[array([1, 2, 4, 5]), array([ 6,  7, 10, 11])]"
      ]
     },
     "execution_count": 33,
     "metadata": {},
     "output_type": "execute_result"
    }
   ],
   "source": [
    "# Split the result from the previous step into two equal sized arrays\n",
    "a5 = np.split(a4, 2)\n",
    "a5"
   ]
  },
  {
   "cell_type": "markdown",
   "metadata": {},
   "source": [
    "# 4. Mathematical Functions\n"
   ]
  },
  {
   "cell_type": "code",
   "execution_count": 34,
   "metadata": {},
   "outputs": [
    {
     "data": {
      "text/plain": [
       "array([ 0.        ,  1.57079633,  3.14159265,  4.71238898,  6.28318531,\n",
       "        7.85398163,  9.42477796, 10.99557429, 12.56637061])"
      ]
     },
     "execution_count": 34,
     "metadata": {},
     "output_type": "execute_result"
    }
   ],
   "source": [
    "# Create an array with values from 0 to 4*pi in increments of pi/2 (pi refers to the mathematical constant  π)\n",
    "arr4pi = np.arange(0, (4 * np.pi + 1), (np.pi / 2))\n",
    "arr4pi"
   ]
  },
  {
   "cell_type": "code",
   "execution_count": 35,
   "metadata": {},
   "outputs": [
    {
     "data": {
      "text/plain": [
       "array([ 0.0000000e+00,  1.0000000e+00,  1.2246468e-16, -1.0000000e+00,\n",
       "       -2.4492936e-16,  1.0000000e+00,  3.6739404e-16, -1.0000000e+00,\n",
       "       -4.8985872e-16])"
      ]
     },
     "execution_count": 35,
     "metadata": {},
     "output_type": "execute_result"
    }
   ],
   "source": [
    "# Compute an array that applies the mathematical sin function to the original array\n",
    "sinPi = np.sin(arr4pi)\n",
    "sinPi"
   ]
  },
  {
   "cell_type": "code",
   "execution_count": 42,
   "metadata": {},
   "outputs": [
    {
     "name": "stdout",
     "output_type": "stream",
     "text": [
      "[ 1.0000000e+00  6.1232340e-17 -1.0000000e+00 -1.8369702e-16\n",
      "  1.0000000e+00  3.0616170e-16 -1.0000000e+00 -4.2862638e-16\n",
      "  1.0000000e+00]\n",
      "[      -inf 0.45158271 1.14472989 1.55019499 1.83787707 2.06102062\n",
      " 2.24334217 2.39749285 2.53102425]\n",
      "[1.00000000e+00 4.81047738e+00 2.31406926e+01 1.11317778e+02\n",
      " 5.35491656e+02 2.57597050e+03 1.23916478e+04 5.96097415e+04\n",
      " 2.86751313e+05]\n"
     ]
    },
    {
     "name": "stderr",
     "output_type": "stream",
     "text": [
      "/var/folders/g1/q7h4_80969x88nl9r_y_rvx80000gn/T/ipykernel_2232/23101988.py:3: RuntimeWarning: divide by zero encountered in log\n",
      "  logPi = np.log(arr4pi)\n"
     ]
    }
   ],
   "source": [
    "# Do the same for the following mathematical functions: cos, log, exp\n",
    "cosPi = np.cos(arr4pi)\n",
    "logPi = np.log(arr4pi)\n",
    "expPi = np.exp(arr4pi)\n",
    "print(cosPi)\n",
    "print(logPi)\n",
    "print(expPi)"
   ]
  },
  {
   "cell_type": "code",
   "execution_count": 37,
   "metadata": {},
   "outputs": [
    {
     "name": "stdout",
     "output_type": "stream",
     "text": [
      "-2.975712385932333e-17\n",
      "0.0\n",
      "0.6666666666666666\n",
      "0.11111111111111106\n",
      "6.123233995736766e-17\n",
      "0.7370277311900889\n",
      "-inf\n",
      "1.8378770664093453\n",
      "nan\n",
      "40222.7148375631\n",
      "535.4916555247646\n",
      "89056.36419225672\n"
     ]
    },
    {
     "name": "stderr",
     "output_type": "stream",
     "text": [
      "/usr/local/lib/python3.11/site-packages/numpy/core/_methods.py:173: RuntimeWarning: invalid value encountered in subtract\n",
      "  x = asanyarray(arr - arrmean)\n"
     ]
    }
   ],
   "source": [
    "# Compute the mean, median, and standard deviation of each resultant array\n",
    "print(np.mean(sinPi))\n",
    "print(np.median(sinPi))\n",
    "print(np.std(sinPi))\n",
    "\n",
    "print(np.mean(cosPi))\n",
    "print(np.median(cosPi))\n",
    "print(np.std(cosPi))\n",
    "\n",
    "print(np.mean(logPi))\n",
    "print(np.median(logPi))\n",
    "print(np.std(logPi))\n",
    "\n",
    "print(np.mean(expPi))\n",
    "print(np.median(expPi))\n",
    "print(np.std(expPi))"
   ]
  },
  {
   "cell_type": "markdown",
   "metadata": {},
   "source": [
    "# 5. Boolean Indexing and Filtering\n"
   ]
  },
  {
   "cell_type": "code",
   "execution_count": 38,
   "metadata": {},
   "outputs": [
    {
     "data": {
      "text/plain": [
       "array([12, 15, 20, 25, 30, 35, 40, 45, 50, 55, 60, 65, 70, 75, 80])"
      ]
     },
     "execution_count": 38,
     "metadata": {},
     "output_type": "execute_result"
    }
   ],
   "source": [
    "# Create a 1-d array with all multiples of 5 from 15 to 80, and also include 12\n",
    "arr5z = np.arange(15, 81, 5)\n",
    "arr5y = np.append(arr5z, 12)\n",
    "arr5x = np.sort(arr5y)\n",
    "arr5x"
   ]
  },
  {
   "cell_type": "code",
   "execution_count": 39,
   "metadata": {},
   "outputs": [
    {
     "data": {
      "text/plain": [
       "array([False, False, False, False,  True,  True,  True,  True,  True,\n",
       "        True,  True,  True,  True,  True,  True])"
      ]
     },
     "execution_count": 39,
     "metadata": {},
     "output_type": "execute_result"
    }
   ],
   "source": [
    "# Create a boolean array that identifies elements which are greater than 25\n",
    "arr5xz = arr5x > 25\n",
    "arr5xz"
   ]
  },
  {
   "cell_type": "code",
   "execution_count": 40,
   "metadata": {},
   "outputs": [
    {
     "data": {
      "text/plain": [
       "array([12, 15, 20, 25])"
      ]
     },
     "execution_count": 40,
     "metadata": {},
     "output_type": "execute_result"
    }
   ],
   "source": [
    "# Use that boolean array to filter out elements greater than 25 from the original array.\n",
    "arr5x[~arr5xz]"
   ]
  }
 ],
 "metadata": {
  "kernelspec": {
   "display_name": "Python 3",
   "language": "python",
   "name": "python3"
  },
  "language_info": {
   "codemirror_mode": {
    "name": "ipython",
    "version": 3
   },
   "file_extension": ".py",
   "mimetype": "text/x-python",
   "name": "python",
   "nbconvert_exporter": "python",
   "pygments_lexer": "ipython3",
   "version": "3.11.6"
  }
 },
 "nbformat": 4,
 "nbformat_minor": 2
}
