{
 "cells": [
  {
   "cell_type": "code",
   "execution_count": 2,
   "metadata": {},
   "outputs": [],
   "source": [
    "class Vector:\n",
    "    def __init__(self, *components):\n",
    "        self.components = components\n",
    "    def __add__(self, other):\n",
    "        if len(self.components) != len(other.components):\n",
    "            raise ValueError(\"Vectors must be of same dimension for addition\")\n",
    "        return Vector(*[x + y for x, y in zip(self.components, other.components)])\n",
    "    def __sub__(self, other):\n",
    "        if len(self.components) != len(other.components):\n",
    "            raise ValueError(\"Vectors must be of same dimension for subtraction\")\n",
    "        return Vector(*[x - y for x, y in zip(self.components, other.components)])\n",
    "    def __mul__(self, scalar):\n",
    "        return Vector(*[x * scalar for x in self.components])\n",
    "    def __rmul__(self, scalar):\n",
    "        return self.__mul__(scalar)\n",
    "    def __repr__(self):\n",
    "        return f\"Vector({', '.join(map(str, self.components))})\"\n",
    "    def dim(self):\n",
    "        return len(self.components)"
   ]
  },
  {
   "cell_type": "code",
   "execution_count": null,
   "metadata": {},
   "outputs": [],
   "source": [
    "# Create a function that takes three 3D vectors, and returns true if one of them is linearly dependent on another. (Is it LD on a combination of the other two)\n",
    "# Vectors are linearly dependent if there exists a set of constants at least one of which is not zero which satisfies (c1v1 + c2v2 + ... + cnvn = the zero vector)\n",
    "\n",
    "# def is_ld(v1, v2, v3):\n",
    "\n",
    "# QR decomposition...?\n"
   ]
  },
  {
   "cell_type": "code",
   "execution_count": 11,
   "metadata": {},
   "outputs": [
    {
     "data": {
      "text/plain": [
       "5"
      ]
     },
     "execution_count": 11,
     "metadata": {},
     "output_type": "execute_result"
    }
   ],
   "source": [
    "# Add a property called dim to the Vector class that contains the dimension of the vector\n",
    "v4 = Vector(1,2,3,4,5)\n",
    "v4.dim()"
   ]
  },
  {
   "cell_type": "code",
   "execution_count": null,
   "metadata": {},
   "outputs": [],
   "source": [
    "# Create a function that calculates the cross product of two vectors, and another that calculates the dot product\n",
    "def crossProduct(v1, v2):\n",
    "    v1l = v1.dim()\n",
    "    v2l = v2.dim()\n",
    "    if v1l != v2l != 3:\n",
    "        raise ValueError(\"Cross product is not defined for other than 3-dimensional vectors.\")\n",
    "    v1c = "
   ]
  },
  {
   "cell_type": "code",
   "execution_count": null,
   "metadata": {},
   "outputs": [],
   "source": [
    "# Create a function that calculates the angle between two vectors.\n"
   ]
  },
  {
   "cell_type": "code",
   "execution_count": null,
   "metadata": {},
   "outputs": [],
   "source": [
    "# Create a function that returns a normalized version of a given vector\n"
   ]
  },
  {
   "cell_type": "code",
   "execution_count": null,
   "metadata": {},
   "outputs": [],
   "source": [
    "# Create a function that takes a a list of vectors called spanlist and a vector called target, and determines if target is within the span of the vectors in spanlist"
   ]
  },
  {
   "cell_type": "code",
   "execution_count": null,
   "metadata": {},
   "outputs": [],
   "source": [
    "# Create a function that takes a list of vectors, and produces a minimal spanning set (Remove as many vectors as possible from the original list while keeping the span the same)"
   ]
  }
 ],
 "metadata": {
  "kernelspec": {
   "display_name": "Python 3",
   "language": "python",
   "name": "python3"
  },
  "language_info": {
   "codemirror_mode": {
    "name": "ipython",
    "version": 3
   },
   "file_extension": ".py",
   "mimetype": "text/x-python",
   "name": "python",
   "nbconvert_exporter": "python",
   "pygments_lexer": "ipython3",
   "version": "3.11.6"
  }
 },
 "nbformat": 4,
 "nbformat_minor": 2
}
